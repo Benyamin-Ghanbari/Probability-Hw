{
 "cells": [
  {
   "cell_type": "markdown",
   "id": "d8b0626f",
   "metadata": {},
   "source": [
    "<h1 align=center style=\"line-height:200%;font-family:vazir;color:#0099cc\">\n",
    "<font face=\"vazir\" color=\"#539b53\">\n",
    "Statistical Inference\n",
    "</font>\n",
    "</h1>"
   ]
  },
  {
   "cell_type": "code",
   "execution_count": 4,
   "id": "7dfba20c",
   "metadata": {},
   "outputs": [],
   "source": [
    "import scipy.stats as stats\n",
    "import numpy as np\n",
    "import math"
   ]
  },
  {
   "cell_type": "markdown",
   "id": "16939ee2",
   "metadata": {},
   "source": [
    "<h2 align=left style=\"line-height:200%;font-family:vazir;color:#0099cc\">\n",
    "<font face=\"vazir\" color=\"#539b53\">\n",
    "Question 1\n",
    "</font>\n",
    "</h2>\n",
    "\n",
    "<p dir=ltl style=\"direction: ltl; text-align: justify; line-height:200%; font-family:vazir; font-size:medium\">\n",
    "<font face=\"vazir\" size=3>\n",
    "- The amount of your telephone conversations over the course of 12 months is assumed to follow a normal distribution, as follows:\n",
    "    \n",
    "46 33 39 37 46 30 48 32 49 35 30 48\n",
    "\n",
    "a) Test whether the total average payment amount is equal to 44 or not.\n",
    "    \n",
    "b) Test whether the total variance of payment amount is equal to 60 or not.\n",
    "</font>\n",
    "</p>"
   ]
  },
  {
   "cell_type": "code",
   "execution_count": 6,
   "id": "93edcda3",
   "metadata": {},
   "outputs": [
    {
     "name": "stdout",
     "output_type": "stream",
     "text": [
      "a) Test results for mean payment amount of 44:\n",
      "t-statistic: -2.1064800737502405\n",
      "p-value: 0.05893519446459442\n",
      "Accept null hypothesis: The total average payment amount is equal to 44.\n",
      "\n",
      "b) Test results for variance of payment amount of 60:\n",
      "Chi-squared statistic: 10.41527777777778\n",
      "p-value: 0.4934642092124656\n",
      "Accept null hypothesis: The total variance of payment amount is equal to 60.\n"
     ]
    }
   ],
   "source": [
    "\n",
    "# Telephone conversation data\n",
    "data = np.array([46, 33, 39, 37, 46, 30, 48, 32, 49, 35, 30, 48])\n",
    "\n",
    "# a) Test whether the total average payment amount is equal to 44 or not.\n",
    "mu = 44\n",
    "t_stat, p_value = stats.ttest_1samp(data, mu)\n",
    "\n",
    "print(\"a) Test results for mean payment amount of 44:\")\n",
    "print(\"t-statistic:\", t_stat)\n",
    "print(\"p-value:\", p_value)\n",
    "\n",
    "if p_value < 0.05:\n",
    "    print(\"Reject null hypothesis: The total average payment amount is not equal to 44.\")\n",
    "else:\n",
    "    print(\"Accept null hypothesis: The total average payment amount is equal to 44.\")\n",
    "\n",
    "# b) Test whether the total variance of payment amount is equal to 60 or not.\n",
    "sigma_squared = 60\n",
    "chi_squared_stat = np.sum((data - np.mean(data))**2) / sigma_squared\n",
    "p_value = 1 - stats.chi2.cdf(chi_squared_stat, df=len(data) - 1)\n",
    "\n",
    "print(\"\\nb) Test results for variance of payment amount of 60:\")\n",
    "print(\"Chi-squared statistic:\", chi_squared_stat)\n",
    "print(\"p-value:\", p_value)\n",
    "\n",
    "if p_value < 0.05:\n",
    "    print(\"Reject null hypothesis: The total variance of payment amount is not equal to 60.\")\n",
    "else:\n",
    "    print(\"Accept null hypothesis: The total variance of payment amount is equal to 60.\")\n"
   ]
  },
  {
   "cell_type": "markdown",
   "id": "8753091c",
   "metadata": {},
   "source": [
    "<h2 align=left style=\"line-height:200%;font-family:vazir;color:#0099cc\">\n",
    "<font face=\"vazir\" color=\"#539b53\">\n",
    "Question 2\n",
    "</font>\n",
    "</h2>\n",
    "\n",
    "<p dir=ltl style=\"direction: ltl; text-align: justify; line-height:200%; font-family:vazir; font-size:medium\">\n",
    "<font face=\"vazir\" size=3>\n",
    "- To compare two populations, samples are selected from each, and the following results are obtained:\n",
    "    \n",
    "$ n_1 = 40, \\bar{x}_1 = 9.1, s_1 = 1.9, n_2 = 50, \\bar{x}_2 = 8, s_2 = 2.1  $\n",
    "\n",
    "a) Write a 90% confidence interval for the difference in means of the two populations.\n",
    "    \n",
    "b) At a significance level of 5%, determine whether the means of the two populations are different.\n",
    "</font>\n",
    "</p>\n",
    "\n",
    "\n"
   ]
  },
  {
   "cell_type": "code",
   "execution_count": 7,
   "id": "95b68f8a",
   "metadata": {},
   "outputs": [
    {
     "name": "stdout",
     "output_type": "stream",
     "text": [
      "a) 90% Confidence Interval for the difference in means: (0.39776609107340266, 1.8022339089265966)\n",
      "\n",
      "b) Test results:\n",
      "t-statistic: 2.6039606017285353\n",
      "p-value: 0.010816067286458564\n",
      "Reject null hypothesis: The means of the two populations are different.\n"
     ]
    }
   ],
   "source": [
    "import numpy as np\n",
    "from scipy.stats import t\n",
    "\n",
    "# Sample 1\n",
    "n1 = 40\n",
    "x1_bar = 9.1\n",
    "s1 = 1.9\n",
    "\n",
    "# Sample 2\n",
    "n2 = 50\n",
    "x2_bar = 8\n",
    "s2 = 2.1\n",
    "\n",
    "# Degrees of freedom\n",
    "df = n1 + n2 - 2\n",
    "\n",
    "# Calculate the pooled standard deviation\n",
    "s_pooled = np.sqrt(((n1 - 1) * s1**2 + (n2 - 1) * s2**2) / df)\n",
    "\n",
    "# Calculate the standard error of the difference in means\n",
    "se_diff = np.sqrt((s1**2 / n1) + (s2**2 / n2))\n",
    "\n",
    "# Calculate the t-statistic for the confidence interval\n",
    "t_critical = stats.t.ppf(0.95, df)\n",
    "\n",
    "# Calculate the margin of error\n",
    "margin_of_error = t_critical * se_diff\n",
    "\n",
    "# Calculate the difference in means\n",
    "mean_difference = x1_bar - x2_bar\n",
    "\n",
    "# Calculate the confidence interval\n",
    "lower_bound = mean_difference - margin_of_error\n",
    "upper_bound = mean_difference + margin_of_error\n",
    "\n",
    "print(\"a) 90% Confidence Interval for the difference in means:\", (lower_bound, upper_bound))\n",
    "\n",
    "# Perform a two-sample t-test\n",
    "t_statistic = (x1_bar - x2_bar) / se_diff\n",
    "p_value = 2 * (1 - stats.t.cdf(abs(t_statistic), df))  # Multiply by 2 for two-tailed test\n",
    "\n",
    "print(\"\\nb) Test results:\")\n",
    "print(\"t-statistic:\", t_statistic)\n",
    "print(\"p-value:\", p_value)\n",
    "\n",
    "if p_value < 0.05:\n",
    "    print(\"Reject null hypothesis: The means of the two populations are different.\")\n",
    "else:\n",
    "    print(\"Accept null hypothesis: The means of the two populations are not different.\")\n"
   ]
  },
  {
   "cell_type": "markdown",
   "id": "03517161",
   "metadata": {},
   "source": [
    "<h2 align=left style=\"line-height:200%;font-family:vazir;color:#0099cc\">\n",
    "<font face=\"vazir\" color=\"#539b53\">\n",
    "Question 3\n",
    "</font>\n",
    "</h2>\n",
    "\n",
    "<p dir=ltl style=\"direction: ltl; text-align: justify; line-height:200%; font-family:vazir; font-size:medium\">\n",
    "<font face=\"vazir\" size=3>\n",
    "From a population, a sample is selected, and out of 100 individuals, 10 are left-handed. Determine a 95% confidence interval for the proportion of left-handed individuals.\n",
    "</font>\n",
    "</p>\n"
   ]
  },
  {
   "cell_type": "code",
   "execution_count": 3,
   "id": "94bbd54a",
   "metadata": {},
   "outputs": [
    {
     "name": "stdout",
     "output_type": "stream",
     "text": [
      "95% Confidence Interval for the Proportion of Left-handed Individuals:\n",
      "Lower bound: 0.04120108046379838\n",
      "Upper bound: 0.15879891953620162\n"
     ]
    }
   ],
   "source": [
    "\n",
    "# Number of individuals in the sample\n",
    "n = 100\n",
    "\n",
    "# Number of left-handed individuals in the sample\n",
    "x = 10\n",
    "\n",
    "# Proportion of left-handed individuals in the sample\n",
    "p_hat = x / n\n",
    "\n",
    "# Z-value for 95% confidence interval\n",
    "z = stats.norm.ppf(0.975)\n",
    "\n",
    "# Margin of error\n",
    "margin_of_error = z * ((p_hat * (1 - p_hat)) / n)**0.5\n",
    "\n",
    "# Lower bound of the confidence interval\n",
    "lower_bound = p_hat - margin_of_error\n",
    "\n",
    "# Upper bound of the confidence interval\n",
    "upper_bound = p_hat + margin_of_error\n",
    "\n",
    "print(\"95% Confidence Interval for the Proportion of Left-handed Individuals:\")\n",
    "print(\"Lower bound:\", lower_bound)\n",
    "print(\"Upper bound:\", upper_bound)\n"
   ]
  },
  {
   "cell_type": "markdown",
   "id": "9e8f0611",
   "metadata": {},
   "source": [
    "<h2 align=left style=\"line-height:200%;font-family:vazir;color:#0099cc\">\n",
    "<font face=\"vazir\" color=\"#539b53\">\n",
    "Question 4\n",
    "</font>\n",
    "</h2>\n",
    "\n",
    "<p dir=ltl style=\"direction: ltl; text-align: justify; line-height:200%; font-family:vazir; font-size:medium\">\n",
    "<font face=\"vazir\" size=3>\n",
    "In a normal population with a variance of 16, a sample of size 25 is selected, and the sample mean and variance are respectively 8 and 14. Find a 95% confidence interval for the population mean.\n",
    "</font>\n",
    "</p>"
   ]
  },
  {
   "cell_type": "code",
   "execution_count": 5,
   "id": "3ccf97a6",
   "metadata": {},
   "outputs": [
    {
     "name": "stdout",
     "output_type": "stream",
     "text": [
      "95% Confidence Interval for the Population Mean:\n",
      "Lower bound: 6.432028812367957\n",
      "Upper bound: 9.567971187632043\n"
     ]
    }
   ],
   "source": [
    "\n",
    "# Sample mean\n",
    "sample_mean = 8\n",
    "\n",
    "# Population variance\n",
    "population_variance = 16\n",
    "\n",
    "# Sample size\n",
    "n = 25\n",
    "\n",
    "# Population standard deviation (square root of variance)\n",
    "population_stddev = math.sqrt(population_variance)\n",
    "\n",
    "# Z-value for 95% confidence interval\n",
    "z = stats.norm.ppf(0.975)\n",
    "\n",
    "# Margin of error\n",
    "margin_of_error = z * (population_stddev / math.sqrt(n))\n",
    "\n",
    "# Lower bound of the confidence interval\n",
    "lower_bound = sample_mean - margin_of_error\n",
    "\n",
    "# Upper bound of the confidence interval\n",
    "upper_bound = sample_mean + margin_of_error\n",
    "\n",
    "print(\"95% Confidence Interval for the Population Mean:\")\n",
    "print(\"Lower bound:\", lower_bound)\n",
    "print(\"Upper bound:\", upper_bound)\n"
   ]
  }
 ],
 "metadata": {
  "kernelspec": {
   "display_name": "Python 3 (ipykernel)",
   "language": "python",
   "name": "python3"
  },
  "language_info": {
   "codemirror_mode": {
    "name": "ipython",
    "version": 3
   },
   "file_extension": ".py",
   "mimetype": "text/x-python",
   "name": "python",
   "nbconvert_exporter": "python",
   "pygments_lexer": "ipython3",
   "version": "3.11.2"
  }
 },
 "nbformat": 4,
 "nbformat_minor": 5
}
