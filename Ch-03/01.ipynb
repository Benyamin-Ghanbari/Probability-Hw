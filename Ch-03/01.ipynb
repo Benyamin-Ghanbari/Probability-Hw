{
 "cells": [
  {
   "cell_type": "markdown",
   "id": "de7bf233",
   "metadata": {},
   "source": [
    "<h1 align=center style=\"line-height:200%;font-family:vazir;color:#0099cc\">\n",
    "<font face=\"vazir\" color=\"#539b53\">\n",
    "Special Distribution\n",
    "</font>\n",
    "</h1>"
   ]
  },
  {
   "cell_type": "code",
   "execution_count": 8,
   "id": "53a2d035",
   "metadata": {},
   "outputs": [],
   "source": [
    "import scipy.stats as stat"
   ]
  },
  {
   "cell_type": "markdown",
   "id": "bb9a8f07",
   "metadata": {},
   "source": [
    "<h2 align=left style=\"line-height:200%;font-family:vazir;color:#0099cc\">\n",
    "<font face=\"vazir\" color=\"#539b53\">\n",
    "Question 1\n",
    "</font>\n",
    "</h2>\n",
    "\n",
    "<p dir=ltl style=\"direction: ltl; text-align: justify; line-height:200%; font-family:vazir; font-size:medium\">\n",
    "<font face=\"vazir\" size=3>\n",
    "The efficacy of a vaccine is 0.8 , and 5 peaple are given the vaccine. What is the probability of at most 1 person getting sick ? \n",
    "</font>\n",
    "</p>"
   ]
  },
  {
   "cell_type": "markdown",
   "id": "177d0247",
   "metadata": {},
   "source": [
    "$P(X = 4) + P ( X = 5 )$ \n",
    "\n",
    "$P(X = 4) = \\binom{5}{4} \\times 0.8^4 \\times 0.2^1 = 0.4096$ \n",
    "\n",
    "$P(X = 5) = \\binom{5}{5} \\times 0.8^5 \\times 0.2^0 = 0.32568$ "
   ]
  },
  {
   "cell_type": "code",
   "execution_count": 9,
   "id": "2c2b655f",
   "metadata": {},
   "outputs": [
    {
     "data": {
      "text/plain": [
       "0.7372799999999998"
      ]
     },
     "execution_count": 9,
     "metadata": {},
     "output_type": "execute_result"
    }
   ],
   "source": [
    "stat.binom.cdf(1,5,0.2)"
   ]
  },
  {
   "cell_type": "markdown",
   "id": "8056f536",
   "metadata": {},
   "source": [
    "<h2 align=left style=\"line-height:200%;font-family:vazir;color:#0099cc\">\n",
    "<font face=\"vazir\" color=\"#539b53\">\n",
    "Question 2\n",
    "</font>\n",
    "</h2>\n",
    "\n",
    "<p dir=ltl style=\"direction: ltl; text-align: justify; line-height:200%; font-family:vazir; font-size:medium\">\n",
    "<font face=\"vazir\" size=3>\n",
    "An organization has introduced 20 new jobs. If 0.25 of the applicants are women, it is desired to calculate the probability that in the random selection, more than one woman is hired.\n",
    "</font>\n",
    "</p>"
   ]
  },
  {
   "cell_type": "markdown",
   "id": "c563de80",
   "metadata": {},
   "source": [
    "$P(X = 0) = \\binom{20}{0} \\times (0.25)^0 \\times (0.75)^{20}$\n",
    "$P(X = 1) = \\binom{20}{1} \\times (0.25)^1 \\times (0.75)^{19}$ \n",
    "$P(X = 0) = 1 \\times (1) \\times (0.75)^{20} \\approx 0.0111$\n",
    "$P(X = 1) = 20 \\times (0.25) \\times (0.75)^{19} \\approx 0.0571$  \n",
    "$P(X \\leq 1) = 0.0111 + 0.0571 \\approx 0.0682$ \n",
    "$P(\\text{more than one woman}) = 1 - P(X \\leq 1) = 1 - 0.0682 = 0.9318$ \n"
   ]
  },
  {
   "cell_type": "code",
   "execution_count": 11,
   "id": "c71622c0",
   "metadata": {},
   "outputs": [
    {
     "data": {
      "text/plain": [
       "0.9756873751348394"
      ]
     },
     "execution_count": 11,
     "metadata": {},
     "output_type": "execute_result"
    }
   ],
   "source": [
    " 1 - stat.binom.cdf(1,20,0.25)"
   ]
  },
  {
   "cell_type": "markdown",
   "id": "595ea71e",
   "metadata": {},
   "source": [
    "<h2 align=left style=\"line-height:200%;font-family:vazir;color:#0099cc\">\n",
    "<font face=\"vazir\" color=\"#539b53\">\n",
    "Question 3\n",
    "</font>\n",
    "</h2>\n",
    "\n",
    "<p dir=ltl style=\"direction: ltl; text-align: justify; line-height:200%; font-family:vazir; font-size:medium\">\n",
    "<font face=\"vazir\" size=3>\n",
    "In a 500-page book, there are 375 printing errors. What is the probability that there are at least two printing errors on one page of this book?\n",
    "</font>\n",
    "</p>"
   ]
  }
 ],
 "metadata": {
  "kernelspec": {
   "display_name": "Python 3 (ipykernel)",
   "language": "python",
   "name": "python3"
  },
  "language_info": {
   "codemirror_mode": {
    "name": "ipython",
    "version": 3
   },
   "file_extension": ".py",
   "mimetype": "text/x-python",
   "name": "python",
   "nbconvert_exporter": "python",
   "pygments_lexer": "ipython3",
   "version": "3.11.2"
  }
 },
 "nbformat": 4,
 "nbformat_minor": 5
}
