{
 "cells": [
  {
   "cell_type": "markdown",
   "id": "bf891bf0",
   "metadata": {},
   "source": [
    "<h1 align=center style=\"line-height:200%;font-family:vazir;color:#0099cc\">\n",
    "<font face=\"vazir\" color=\"#539b53\">\n",
    "Special Distribution\n",
    "</font>\n",
    "</h1>"
   ]
  },
  {
   "cell_type": "code",
   "execution_count": 5,
   "id": "517b0a5e",
   "metadata": {},
   "outputs": [],
   "source": [
    "import scipy.stats  as stats"
   ]
  },
  {
   "cell_type": "markdown",
   "id": "bb2eb59a",
   "metadata": {},
   "source": [
    "<h2 align=left style=\"line-height:200%;font-family:vazir;color:#0099cc\">\n",
    "<font face=\"vazir\" color=\"#539b53\">\n",
    "Question 5\n",
    "</font>\n",
    "</h2>\n",
    "\n",
    "<p dir=ltl style=\"direction: ltl; text-align: justify; line-height:200%; font-family:vazir; font-size:medium\">\n",
    "<font face=\"vazir\" size=3>\n",
    "If the random variable X represents the number of throws of two dice until the first pair of 6's is observed, then the desired probabilities are:\n",
    "\n",
    "- i \\( P(X > x) \\) : The probability of X being equal to x.\n",
    "    \n",
    "- ii \\( P(X > 5) \\) : The probability of X being greater than 5.\n",
    "</font>\n",
    "</p>"
   ]
  },
  {
   "cell_type": "markdown",
   "id": "e5d50f83",
   "metadata": {},
   "source": [
    "**Solution i :**\n",
    "\n",
    "$ G(\\frac{1}{36}) : f(x) = \\frac {1}{36} \\times (\\frac{35}{36}) ^ (x-1) $\n",
    "\n",
    "$ 1 - (\\frac{35}{36}) ^ (x-1) $"
   ]
  },
  {
   "cell_type": "markdown",
   "id": "9815cc6d",
   "metadata": {},
   "source": [
    "**Solution ii :**\n",
    "\n",
    "$ G(\\frac{1}{36}) : f(x) = \\frac {1}{36} \\times (\\frac{35}{36}) ^ 4 $\n",
    "\n",
    "$ 1 - (\\frac{35}{36}) ^ 4 = \\frac {178991}{1679616} \\approx 0.10657 $"
   ]
  },
  {
   "cell_type": "code",
   "execution_count": 6,
   "id": "acf90fa5",
   "metadata": {},
   "outputs": [
    {
     "name": "stdout",
     "output_type": "stream",
     "text": [
      "P(X > 5) = 0.13138421387851615\n"
     ]
    }
   ],
   "source": [
    "\n",
    "geom_dist = stats.geom(1/36)\n",
    "p_x_gt_5 = geom_dist.cdf(5)\n",
    "\n",
    "print(\"P(X > 5) =\", p_x_gt_5)"
   ]
  },
  {
   "cell_type": "markdown",
   "id": "ea1cab95",
   "metadata": {},
   "source": [
    "<h2 align=left style=\"line-height:200%;font-family:vazir;color:#0099cc\">\n",
    "<font face=\"vazir\" color=\"#539b53\">\n",
    "Question 6\n",
    "</font>\n",
    "</h2>\n",
    "\n",
    "<p dir=ltl style=\"direction: ltl; text-align: justify; line-height:200%; font-family:vazir; font-size:medium\">\n",
    "<font face=\"vazir\" size=3>\n",
    "- Assume that, on average, 120 pieces are produced per hour in a workshop. It is desired to calculate the probability that the time interval between the production of two items:\n",
    "    \n",
    "- i- is more than 0.5 minutes.\n",
    "    \n",
    "- ii- is between 20 to 40 seconds.\n",
    "</font>\n",
    "</p>\n"
   ]
  },
  {
   "cell_type": "markdown",
   "id": "c554e804",
   "metadata": {},
   "source": [
    "**Solution i :** \n",
    "\n",
    "$ Conversion: 0.5 minutes = \\frac{0.5}{60}= 2 $\n",
    "\n",
    "$ \\lambda = \\frac{1}{120} $\n",
    "\n",
    "$Using E(X) Distribution :$\n",
    "\n",
    "$ P(X > 0.5) = 1 - P(X ≤ 0.5) = 1 - (1 - e^(\\times-\\lambda \\times 0.5)) $"
   ]
  },
  {
   "cell_type": "code",
   "execution_count": 23,
   "id": "15d4809d",
   "metadata": {},
   "outputs": [
    {
     "name": "stdout",
     "output_type": "stream",
     "text": [
      "Probability that the time interval between two items is more than 0.5 minutes: 0.7788007830714049\n"
     ]
    }
   ],
   "source": [
    "time_interval_hours = 0.5 / 60 \n",
    "lambda_ = 1 / 120 \n",
    "prob_more_than_0_5_minutes = 1 - stats.expon.cdf(time_interval_seconds, scale=1/lambda_)\n",
    "\n",
    "print(\"Probability that the time interval between two items is more than 0.5 minutes:\", prob_more_than_0_5_minutes)\n"
   ]
  },
  {
   "cell_type": "markdown",
   "id": "18f2f12c",
   "metadata": {},
   "source": [
    "**solution ii :** \n",
    "\n",
    "$ Convert second to hours : $\n",
    "\n",
    "$ Time interval lower : \\frac{20}{3600} $\n",
    "\n",
    "$ Time interval upper : \\frac{40}{3600} $\n",
    "\n",
    "$ P(20 ≤ X ≤ 40) = P(X ≤ 40) - P(X ≤ 20) = (1 - e^(-\\lambda \\times 40)) - (1 - e^(-\\lambda \\times 20)) $"
   ]
  },
  {
   "cell_type": "code",
   "execution_count": 24,
   "id": "3e34228e",
   "metadata": {},
   "outputs": [
    {
     "name": "stdout",
     "output_type": "stream",
     "text": [
      "Probability that the time interval between the production of two items is between 20 to 40 seconds: 4.629308139148449e-05\n"
     ]
    }
   ],
   "source": [
    "time_interval_lower = 20 / 3600  # seconds to hours\n",
    "time_interval_upper = 40 / 3600  # seconds to hours\n",
    "\n",
    "# Calculate the probabilities using the cumulative distribution function\n",
    "prob_less_than_40_seconds = stats.expon.cdf(time_interval_upper, scale=1/lambda_)\n",
    "prob_less_than_20_seconds = stats.expon.cdf(time_interval_lower, scale=1/lambda_)\n",
    "\n",
    "# Probability between 20 and 40 seconds is the difference between the two cumulative probabilities\n",
    "prob_between_20_and_40_seconds = prob_less_than_40_seconds - prob_less_than_20_seconds\n",
    "\n",
    "print(\"Probability that the time interval between the production of two items is between 20 to 40 seconds:\", prob_between_20_and_40_seconds)"
   ]
  }
 ],
 "metadata": {
  "kernelspec": {
   "display_name": "Python 3 (ipykernel)",
   "language": "python",
   "name": "python3"
  },
  "language_info": {
   "codemirror_mode": {
    "name": "ipython",
    "version": 3
   },
   "file_extension": ".py",
   "mimetype": "text/x-python",
   "name": "python",
   "nbconvert_exporter": "python",
   "pygments_lexer": "ipython3",
   "version": "3.11.2"
  }
 },
 "nbformat": 4,
 "nbformat_minor": 5
}
