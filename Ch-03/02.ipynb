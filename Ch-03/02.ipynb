{
 "cells": [
  {
   "cell_type": "markdown",
   "id": "bf891bf0",
   "metadata": {},
   "source": [
    "<h1 align=center style=\"line-height:200%;font-family:vazir;color:#0099cc\">\n",
    "<font face=\"vazir\" color=\"#539b53\">\n",
    "Special Distribution\n",
    "</font>\n",
    "</h1>"
   ]
  },
  {
   "cell_type": "code",
   "execution_count": 1,
   "id": "517b0a5e",
   "metadata": {},
   "outputs": [],
   "source": [
    "import scipy.stats  as stats"
   ]
  },
  {
   "cell_type": "markdown",
   "id": "bb2eb59a",
   "metadata": {},
   "source": [
    "<h2 align=left style=\"line-height:200%;font-family:vazir;color:#0099cc\">\n",
    "<font face=\"vazir\" color=\"#539b53\">\n",
    "Question 5\n",
    "</font>\n",
    "</h2>\n",
    "\n",
    "<p dir=ltl style=\"direction: ltl; text-align: justify; line-height:200%; font-family:vazir; font-size:medium\">\n",
    "<font face=\"vazir\" size=3>\n",
    "If the random variable X represents the number of throws of two dice until the first pair of 6's is observed, then the desired probabilities are:\n",
    "\n",
    "- i \\( P(X > x) \\) : The probability of X being equal to x.\n",
    "    \n",
    "- ii \\( P(X > 5) \\) : The probability of X being greater than 5.\n",
    "</font>\n",
    "</p>"
   ]
  },
  {
   "cell_type": "markdown",
   "id": "e5d50f83",
   "metadata": {},
   "source": [
    "**Solution i :**\n",
    "\n",
    "$ G(\\frac{1}{36}) : f(x) = \\frac {1}{36} \\times (\\frac{35}{36}) ^ (x-1) $\n",
    "\n",
    "$ 1 - (\\frac{35}{36}) ^ (x-1) $"
   ]
  },
  {
   "cell_type": "markdown",
   "id": "9815cc6d",
   "metadata": {},
   "source": [
    "**Solution ii :**\n",
    "\n",
    "$ G(\\frac{1}{36}) : f(x) = \\frac {1}{36} \\times (\\frac{35}{36}) ^ 4 $\n",
    "\n",
    "$ 1 - (\\frac{35}{36}) ^ 4 = \\frac {178991}{1679616} \\approx 0.10657 $"
   ]
  },
  {
   "cell_type": "code",
   "execution_count": 6,
   "id": "acf90fa5",
   "metadata": {},
   "outputs": [
    {
     "name": "stdout",
     "output_type": "stream",
     "text": [
      "P(X > 5) = 0.13138421387851615\n"
     ]
    }
   ],
   "source": [
    "\n",
    "geom_dist = stats.geom(1/36)\n",
    "p_x_gt_5 = geom_dist.cdf(5)\n",
    "\n",
    "print(\"P(X > 5) =\", p_x_gt_5)"
   ]
  },
  {
   "cell_type": "markdown",
   "id": "ea1cab95",
   "metadata": {},
   "source": [
    "<h2 align=left style=\"line-height:200%;font-family:vazir;color:#0099cc\">\n",
    "<font face=\"vazir\" color=\"#539b53\">\n",
    "Question 6\n",
    "</font>\n",
    "</h2>\n",
    "\n",
    "<p dir=ltl style=\"direction: ltl; text-align: justify; line-height:200%; font-family:vazir; font-size:medium\">\n",
    "<font face=\"vazir\" size=3>\n",
    "- Assume that, on average, 120 pieces are produced per hour in a workshop. It is desired to calculate the probability that the time interval between the production of two items:\n",
    "    \n",
    "- i- is more than 0.5 minutes.\n",
    "    \n",
    "- ii- is between 20 to 40 seconds.\n",
    "</font>\n",
    "</p>\n"
   ]
  },
  {
   "cell_type": "markdown",
   "id": "c554e804",
   "metadata": {},
   "source": [
    "**Solution i :** \n",
    "\n",
    "$ Conversion: 0.5 minutes = \\frac{0.5}{60}= 2 $\n",
    "\n",
    "$ \\lambda = \\frac{1}{120} $\n",
    "\n",
    "$Using E(X) Distribution :$\n",
    "\n",
    "$ P(X > 0.5) = 1 - P(X ≤ 0.5) = 1 - (1 - e^(\\times-\\lambda \\times 0.5)) $"
   ]
  },
  {
   "cell_type": "code",
   "execution_count": 23,
   "id": "15d4809d",
   "metadata": {},
   "outputs": [
    {
     "name": "stdout",
     "output_type": "stream",
     "text": [
      "Probability that the time interval between two items is more than 0.5 minutes: 0.7788007830714049\n"
     ]
    }
   ],
   "source": [
    "time_interval_hours = 0.5 / 60 \n",
    "lambda_ = 1 / 120 \n",
    "prob_more_than_0_5_minutes = 1 - stats.expon.cdf(time_interval_seconds, scale=1/lambda_)\n",
    "\n",
    "print(\"Probability that the time interval between two items is more than 0.5 minutes:\", prob_more_than_0_5_minutes)\n"
   ]
  },
  {
   "cell_type": "markdown",
   "id": "18f2f12c",
   "metadata": {},
   "source": [
    "**solution ii :** \n",
    "\n",
    "$ Convert second to hours : $\n",
    "\n",
    "$ Time interval lower : \\frac{20}{3600} $\n",
    "\n",
    "$ Time interval upper : \\frac{40}{3600} $\n",
    "\n",
    "$ P(20 ≤ X ≤ 40) = P(X ≤ 40) - P(X ≤ 20) = (1 - e^(-\\lambda \\times 40)) - (1 - e^(-\\lambda \\times 20)) $"
   ]
  },
  {
   "cell_type": "code",
   "execution_count": 24,
   "id": "3e34228e",
   "metadata": {},
   "outputs": [
    {
     "name": "stdout",
     "output_type": "stream",
     "text": [
      "Probability that the time interval between the production of two items is between 20 to 40 seconds: 4.629308139148449e-05\n"
     ]
    }
   ],
   "source": [
    "time_interval_lower = 20 / 3600  # seconds to hours\n",
    "time_interval_upper = 40 / 3600  # seconds to hours\n",
    "\n",
    "# Calculate the probabilities using the cumulative distribution function\n",
    "prob_less_than_40_seconds = stats.expon.cdf(time_interval_upper, scale=1/lambda_)\n",
    "prob_less_than_20_seconds = stats.expon.cdf(time_interval_lower, scale=1/lambda_)\n",
    "\n",
    "# Probability between 20 and 40 seconds is the difference between the two cumulative probabilities\n",
    "prob_between_20_and_40_seconds = prob_less_than_40_seconds - prob_less_than_20_seconds\n",
    "\n",
    "print(\"Probability that the time interval between the production of two items is between 20 to 40 seconds:\", prob_between_20_and_40_seconds)"
   ]
  },
  {
   "cell_type": "markdown",
   "id": "7e739b74",
   "metadata": {},
   "source": [
    "<h2 align=left style=\"line-height:200%;font-family:vazir;color:#0099cc\">\n",
    "<font face=\"vazir\" color=\"#539b53\">\n",
    "Question 7\n",
    "</font>\n",
    "</h2>\n",
    "\n",
    "<p dir=ltl style=\"direction: ltl; text-align: justify; line-height:200%; font-family:vazir; font-size:medium\">\n",
    "<font face=\"vazir\" size=3>\n",
    "We randomly select 20 numbers in interval (2,8).What is he probability that at least 6 of them are in the interval (3,5)?\n",
    "</font>\n",
    "</p>"
   ]
  },
  {
   "cell_type": "markdown",
   "id": "5031ba0e",
   "metadata": {},
   "source": [
    "$ f(x) = \\frac{1}{8-2} = \\frac{1}{6} $\n",
    "\n",
    "**we want to find**: \n",
    "$P(X \\geq 6) $\n",
    "\n",
    "$ P(X < 6) = \\int_{3}^{5} f(x)\\,dx = \\frac{1}{6}x \\Big|_{3}^{5} = \\frac{1}{6}(5-3) = \\frac{1}{3} $\n",
    "\n",
    "$ 1 - P(X < 6) = P(X \\geq 6) $ \n",
    "\n",
    "$ 1 - \\frac{1}{3} = \\frac {2}{3} $\n",
    "\n"
   ]
  },
  {
   "cell_type": "code",
   "execution_count": 3,
   "id": "00ec82a5",
   "metadata": {},
   "outputs": [
    {
     "name": "stdout",
     "output_type": "stream",
     "text": [
      "0.6666666666666666\n"
     ]
    }
   ],
   "source": [
    "# random varianle\n",
    "rv = stats.uniform(loc=2, scale=6)\n",
    "\n",
    "cdf_5 = rv.cdf(5)\n",
    "cdf_3 = rv.cdf(3)\n",
    "\n",
    "#\n",
    "probability =1 - ( cdf_5 - cdf_3 )\n",
    "print(probability)"
   ]
  },
  {
   "cell_type": "markdown",
   "id": "2e406159",
   "metadata": {},
   "source": [
    "<h2 align=left style=\"line-height:200%;font-family:vazir;color:#0099cc\">\n",
    "<font face=\"vazir\" color=\"#539b53\">\n",
    "Question 8\n",
    "</font>\n",
    "</h2>\n",
    "\n",
    "<p dir=ltl style=\"direction: ltl; text-align: justify; line-height:200%; font-family:vazir; font-size:medium\">\n",
    "<font face=\"vazir\" size=3>\n",
    "The distribution of grades for a group of students follows a normal distribution with a mean of 14 and a standard deviation of 4. If 80% of the students have passed, what is the minimum passing grade?\n",
    "</font>\n",
    "</p>"
   ]
  },
  {
   "cell_type": "markdown",
   "id": "c95290e3",
   "metadata": {},
   "source": [
    "$ z \\approx 0.84 $\n",
    "\n",
    "$ z = \\frac {x - \\mu}{\\sigma} $\n",
    "\n",
    "$ x = \\mu + ( z \\times \\sigma ) $\n",
    "\n",
    "$ x = 14+ (0.84 \\times 4) $\n",
    "\n",
    "$ x \\approx 17.36 $"
   ]
  },
  {
   "cell_type": "code",
   "execution_count": 6,
   "id": "cac25d6b",
   "metadata": {},
   "outputs": [
    {
     "name": "stdout",
     "output_type": "stream",
     "text": [
      "17.366484934291655\n"
     ]
    }
   ],
   "source": [
    "mean = 14\n",
    "std_dev= 4\n",
    "\n",
    "# finding z-score\n",
    "z_score = stats.norm.ppf(0.8)\n",
    "\n",
    "min_passing_grade =  mean + (z_score * std_dev)\n",
    "print(min_passing_grade)"
   ]
  }
 ],
 "metadata": {
  "kernelspec": {
   "display_name": "Python 3 (ipykernel)",
   "language": "python",
   "name": "python3"
  },
  "language_info": {
   "codemirror_mode": {
    "name": "ipython",
    "version": 3
   },
   "file_extension": ".py",
   "mimetype": "text/x-python",
   "name": "python",
   "nbconvert_exporter": "python",
   "pygments_lexer": "ipython3",
   "version": "3.11.2"
  }
 },
 "nbformat": 4,
 "nbformat_minor": 5
}
